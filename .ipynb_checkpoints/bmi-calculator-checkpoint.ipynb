{
 "cells": [
  {
   "cell_type": "markdown",
   "id": "1061fb82-6e1d-44c5-96c0-6fc22d4811f0",
   "metadata": {
    "tags": []
   },
   "source": [
    "## CALCULADORA IMC"
   ]
  },
  {
   "cell_type": "markdown",
   "id": "719fc05d-04ab-4ae7-985b-f038ba87138c",
   "metadata": {},
   "source": [
    "### BMI = (WEIGHT IN POUNDS X 703) / (HEIGHT IN INCHES X HEIGHT IN INCHES)"
   ]
  },
  {
   "cell_type": "code",
   "execution_count": 14,
   "id": "a7d255b4-5c15-4ecd-9420-2400305093ac",
   "metadata": {
    "tags": []
   },
   "outputs": [],
   "source": [
    "def checkBMI(bmi):\n",
    "    if bmi < 18.5:\n",
    "        return \"Underweight\"\n",
    "    elif 18.5 <= bmi < 24.9:\n",
    "        return \"Normal Weight\"\n",
    "    elif 24.9 <= bmi < 29.9:\n",
    "        return \"Overweight\"\n",
    "    else:\n",
    "        return \"Obese\"\n",
    "    "
   ]
  },
  {
   "cell_type": "code",
   "execution_count": 17,
   "id": "37a8a1c3-67f1-43df-abd7-3451bdfce9a2",
   "metadata": {
    "tags": []
   },
   "outputs": [],
   "source": [
    "def calculatorBMI(weight, height):\n",
    "        try:\n",
    "            bmi = (weight*703)/(height*height)\n",
    "            return bmi\n",
    "        except ValueError as ve:\n",
    "            print('Only Integers')\n",
    "        finally: print('BYE')"
   ]
  },
  {
   "cell_type": "markdown",
   "id": "f26d52a7-be23-4c2c-aaad-77a3751cb32c",
   "metadata": {},
   "source": [
    "## BMI\tWeight Status\n",
    "## Below 18.5\tUnderweight\n",
    "## 18.5—24.9\tHealthy Weight\n",
    "## 25.0—29.9\tOverweight\n",
    "## 30.0 and Above\tObesity"
   ]
  },
  {
   "cell_type": "code",
   "execution_count": null,
   "id": "d01f1294-43ef-416c-999a-5c5c2478cf97",
   "metadata": {
    "tags": []
   },
   "outputs": [],
   "source": [
    "status = 'y'\n",
    "while status=='y':\n",
    "    weight = int(input('Enter in pounds >> '))\n",
    "    height = int(input('Enter in inches >> '))\n",
    "    bmi = calculatorBMI(weight, height)\n",
    "    checkBMI(bmi)\n",
    "    status = str(input('You wanna keep trying [y/n]? '))\n",
    "    print('Bye!')"
   ]
  },
  {
   "cell_type": "code",
   "execution_count": null,
   "id": "cfefbe15-1d4d-4234-b8b4-505bcee0789f",
   "metadata": {},
   "outputs": [],
   "source": []
  }
 ],
 "metadata": {
  "kernelspec": {
   "display_name": "Python 3 (ipykernel)",
   "language": "python",
   "name": "python3"
  },
  "language_info": {
   "codemirror_mode": {
    "name": "ipython",
    "version": 3
   },
   "file_extension": ".py",
   "mimetype": "text/x-python",
   "name": "python",
   "nbconvert_exporter": "python",
   "pygments_lexer": "ipython3",
   "version": "3.11.3"
  }
 },
 "nbformat": 4,
 "nbformat_minor": 5
}
